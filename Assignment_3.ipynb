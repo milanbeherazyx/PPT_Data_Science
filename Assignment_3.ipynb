{
  "nbformat": 4,
  "nbformat_minor": 0,
  "metadata": {
    "colab": {
      "provenance": [],
      "gpuType": "T4",
      "authorship_tag": "ABX9TyPIObmsxT4S352VjLtA1OTp",
      "include_colab_link": true
    },
    "kernelspec": {
      "name": "python3",
      "display_name": "Python 3"
    },
    "language_info": {
      "name": "python"
    }
  },
  "cells": [
    {
      "cell_type": "markdown",
      "metadata": {
        "id": "view-in-github",
        "colab_type": "text"
      },
      "source": [
        "<a href=\"https://colab.research.google.com/github/milanbeherazyx/PPT_Data_Science/blob/main/Assignment_3.ipynb\" target=\"_parent\"><img src=\"https://colab.research.google.com/assets/colab-badge.svg\" alt=\"Open In Colab\"/></a>"
      ]
    },
    {
      "cell_type": "markdown",
      "source": [
        "1. Scenario: A company wants to analyze the sales performance of its products in different regions. They have collected the following data:\n",
        "   Region A: [10, 15, 12, 8, 14]\n",
        "   Region B: [18, 20, 16, 22, 25]\n",
        "   Calculate the mean sales for each region.\n"
      ],
      "metadata": {
        "id": "nZIBuRrNa4l3"
      }
    },
    {
      "cell_type": "code",
      "source": [
        "def calculate_mean_sales(region_sales):\n",
        "    mean_sales = sum(region_sales) / len(region_sales)\n",
        "    return mean_sales\n",
        "\n",
        "region_a_sales = [10, 15, 12, 8, 14]\n",
        "region_b_sales = [18, 20, 16, 22, 25]\n",
        "\n",
        "mean_sales_region_a = calculate_mean_sales(region_a_sales)\n",
        "mean_sales_region_b = calculate_mean_sales(region_b_sales)\n",
        "\n",
        "print(f\"Mean sales for Region A: {mean_sales_region_a}\")\n",
        "print(f\"Mean sales for Region A: {mean_sales_region_b}\")"
      ],
      "metadata": {
        "colab": {
          "base_uri": "https://localhost:8080/"
        },
        "id": "Hw4pbwo9c-l7",
        "outputId": "5f1dd032-4265-4943-a43a-00670af8995c"
      },
      "execution_count": 16,
      "outputs": [
        {
          "output_type": "stream",
          "name": "stdout",
          "text": [
            "Mean sales for Region A: 11.8\n",
            "Mean sales for Region A: 20.2\n"
          ]
        }
      ]
    },
    {
      "cell_type": "code",
      "source": [
        "import numpy as np\n",
        "\n",
        "region_a_sales = [10, 15, 12, 8, 14]\n",
        "region_b_sales = [18, 20, 16, 22, 25]\n",
        "\n",
        "mean_sales_region_a = np.mean(region_a_sales)\n",
        "mean_sales_region_b = np.mean(region_a_sales)\n",
        "\n",
        "print(f\"Mean sales for Region A: {mean_sales_region_a}\")\n",
        "print(f\"Mean sales for Region A: {mean_sales_region_b}\")"
      ],
      "metadata": {
        "colab": {
          "base_uri": "https://localhost:8080/"
        },
        "id": "zSXLr9s_dgU2",
        "outputId": "3389e844-46d8-4b2d-a5c5-3a81eaf888b5"
      },
      "execution_count": 17,
      "outputs": [
        {
          "output_type": "stream",
          "name": "stdout",
          "text": [
            "Mean sales for Region A: 11.8\n",
            "Mean sales for Region A: 11.8\n"
          ]
        }
      ]
    },
    {
      "cell_type": "markdown",
      "source": [
        "2. Scenario: A survey is conducted to measure customer satisfaction on a scale of 1 to 5. The data collected is as follows:\n",
        "   [4, 5, 2, 3, 5, 4, 3, 2, 4, 5]\n",
        "   Calculate the mode of the survey responses.\n"
      ],
      "metadata": {
        "id": "jZAtNjifeQb3"
      }
    },
    {
      "cell_type": "code",
      "source": [
        "import statistics\n",
        "\n",
        "survey_responses = [4, 5, 2, 3, 5, 4, 3, 2, 4, 5]\n",
        "mode_response = statistics.mode(survey_responses)\n",
        "\n",
        "print(f\"Mode of the survey responses: {mode_response}\")"
      ],
      "metadata": {
        "colab": {
          "base_uri": "https://localhost:8080/"
        },
        "id": "rh1KsDYUd1HP",
        "outputId": "d35d1ee6-d10f-4013-e3ca-a8a17f3dac5f"
      },
      "execution_count": 20,
      "outputs": [
        {
          "output_type": "stream",
          "name": "stdout",
          "text": [
            "Mode of the survey responses: 4\n"
          ]
        }
      ]
    },
    {
      "cell_type": "markdown",
      "source": [
        "3. Scenario: A company wants to compare the salaries of two departments. The salary data for Department A and Department B are as follows:\n",
        "   Department A: [5000, 6000, 5500, 7000]\n",
        "   Department B: [4500, 5500, 5800, 6000, 5200]\n",
        "   Calculate the median salary for each department\n"
      ],
      "metadata": {
        "id": "ScADY7_6fB9_"
      }
    },
    {
      "cell_type": "code",
      "source": [
        "import statistics\n",
        "\n",
        "department_a_salaries = [5000, 6000, 5500, 7000]\n",
        "department_b_salaries = [4500, 5500, 5800, 6000, 5200]\n",
        "\n",
        "median_salary_department_a = statistics.median(department_a_salaries)\n",
        "median_salary_department_b = statistics.median(department_b_salaries)\n",
        "\n",
        "print(f\"Median salary for Department A: {median_salary_department_a}\")\n",
        "print(f\"Median salary for Department B: {median_salary_department_b}\")\n"
      ],
      "metadata": {
        "colab": {
          "base_uri": "https://localhost:8080/"
        },
        "id": "c9kaUakUepFn",
        "outputId": "56bf2dbe-8b7d-4331-a836-50d4c0b0868a"
      },
      "execution_count": 26,
      "outputs": [
        {
          "output_type": "stream",
          "name": "stdout",
          "text": [
            "Median salary for Department A: 5750.0\n",
            "Median salary for Department B: 5500\n"
          ]
        }
      ]
    },
    {
      "cell_type": "markdown",
      "source": [
        "4. Scenario: A data analyst wants to determine the variability in the daily stock prices of a company. The data collected is as follows:\n",
        "   [25.5, 24.8, 26.1, 25.3, 24.9]\n",
        "   Calculate the range of the stock prices.\n"
      ],
      "metadata": {
        "id": "iGrGyrvofqDF"
      }
    },
    {
      "cell_type": "code",
      "source": [
        "stock_prices = [25.5, 24.8, 26.1, 25.3, 24.9]\n",
        "price_range = max(stock_prices) - min(stock_prices)\n",
        "\n",
        "print(f\"Range of stock prices: {price_range}\")"
      ],
      "metadata": {
        "colab": {
          "base_uri": "https://localhost:8080/"
        },
        "id": "9fR-KgL3fE23",
        "outputId": "e199c4ca-1ce0-4e1d-f741-ed2b63d43e5d"
      },
      "execution_count": 1,
      "outputs": [
        {
          "output_type": "stream",
          "name": "stdout",
          "text": [
            "Range of stock prices: 1.3000000000000007\n"
          ]
        }
      ]
    },
    {
      "cell_type": "markdown",
      "source": [
        "5. Scenario: A study is conducted to compare the performance of two different teaching methods. The test scores of the students in each group are as follows:\n",
        "   Group A: [85, 90, 92, 88, 91]\n",
        "   Group B: [82, 88, 90, 86, 87]\n",
        "   Perform a t-test to determine if there is a significant difference in the mean scores between the two groups.\n"
      ],
      "metadata": {
        "id": "NymrJJ6Yf8yB"
      }
    },
    {
      "cell_type": "code",
      "source": [
        "import scipy.stats as stats\n",
        "\n",
        "group_a_scores = [85, 90, 92, 88, 91]\n",
        "group_b_scores = [82, 88, 90, 86, 87]\n",
        "\n",
        "# Perform independent t-test\n",
        "t_statistic, p_value = stats.ttest_ind(group_a_scores, group_b_scores)\n",
        "\n",
        "if p_value < 0.05:\n",
        "    print(\"There is a significant difference in the mean scores between the two groups.\")\n",
        "else:\n",
        "    print(\"There is no significant difference in the mean scores between the two groups.\")"
      ],
      "metadata": {
        "colab": {
          "base_uri": "https://localhost:8080/"
        },
        "id": "VEjjElEVfyWl",
        "outputId": "67bc99d8-c446-44b4-c8f6-250823705d14"
      },
      "execution_count": 2,
      "outputs": [
        {
          "output_type": "stream",
          "name": "stdout",
          "text": [
            "There is no significant difference in the mean scores between the two groups.\n"
          ]
        }
      ]
    },
    {
      "cell_type": "markdown",
      "source": [
        "6. Scenario: A company wants to analyze the relationship between advertising expenditure and sales. The data collected is as follows:\n",
        "   Advertising Expenditure (in thousands): [10, 15, 12, 8, 14]\n",
        "   Sales (in thousands): [25, 30, 28, 20, 26]\n",
        "   Calculate the correlation coefficient between advertising expenditure and sales.\n"
      ],
      "metadata": {
        "id": "GuycnFzTgPZg"
      }
    },
    {
      "cell_type": "code",
      "source": [
        "import numpy as np\n",
        "\n",
        "advertising_expenditure = [10, 15, 12, 8, 14]\n",
        "sales = [25, 30, 28, 20, 26]\n",
        "\n",
        "correlation_coefficient = np.corrcoef(advertising_expenditure, sales)[0, 1]\n",
        "\n",
        "print(f\"Correlation coefficient: {correlation_coefficient}\")"
      ],
      "metadata": {
        "colab": {
          "base_uri": "https://localhost:8080/"
        },
        "id": "f_wPfeQmgXWr",
        "outputId": "b50adb75-47e2-4c9f-8590-f1df10de7ccd"
      },
      "execution_count": 4,
      "outputs": [
        {
          "output_type": "stream",
          "name": "stdout",
          "text": [
            "Correlation coefficient: 0.8757511375750132\n"
          ]
        }
      ]
    },
    {
      "cell_type": "markdown",
      "source": [
        "7. Scenario: A survey is conducted to measure the heights of a group of people. The data collected is as follows:\n",
        "   [160, 170, 165, 155, 175, 180, 170]\n",
        "   Calculate the standard deviation of the heights.\n"
      ],
      "metadata": {
        "id": "H3urM2FzhA-m"
      }
    },
    {
      "cell_type": "code",
      "source": [
        "import statistics\n",
        "\n",
        "heights = [160, 170, 165, 155, 175, 180, 170]\n",
        "\n",
        "standard_deviation = statistics.stdev(heights)\n",
        "\n",
        "print(f\"Standard deviation of heights: {standard_deviation}\")"
      ],
      "metadata": {
        "colab": {
          "base_uri": "https://localhost:8080/"
        },
        "id": "WFcuBRaChYPn",
        "outputId": "8d3c140a-cfe3-4e90-f78d-698b88c4c0e8"
      },
      "execution_count": 11,
      "outputs": [
        {
          "output_type": "stream",
          "name": "stdout",
          "text": [
            "Standard deviation of heights: 8.591246929842246\n"
          ]
        }
      ]
    },
    {
      "cell_type": "markdown",
      "source": [
        "8. Scenario: A company wants to analyze the relationship between employee tenure and job satisfaction. The data collected is as follows:\n",
        "   Employee Tenure (in years): [2, 3, 5, 4, 6, 2, 4]\n",
        "   Job Satisfaction (on a scale of 1 to 10): [7, 8, 6, 9, 5, 7, 6]\n",
        "   Perform a linear regression analysis to predict job satisfaction based on employee tenure.\n"
      ],
      "metadata": {
        "id": "c6EAdwXnh26d"
      }
    },
    {
      "cell_type": "code",
      "source": [
        "from sklearn.linear_model import LinearRegression\n",
        "import numpy as np\n",
        "\n",
        "employee_tenure = np.array([2, 3, 5, 4, 6, 2, 4]).reshape(-1, 1)\n",
        "job_satisfaction = np.array([7, 8, 6, 9, 5, 7, 6])\n",
        "\n",
        "# Create a Linear Regression model and fit the data\n",
        "regression_model = LinearRegression()\n",
        "regression_model.fit(employee_tenure, job_satisfaction)\n",
        "\n",
        "# Extract the coefficients\n",
        "intercept = regression_model.intercept_\n",
        "slope = regression_model.coef_[0]\n",
        "\n",
        "print(f\"Intercept: {intercept}\")\n",
        "print(f\"Slope: {slope}\")"
      ],
      "metadata": {
        "colab": {
          "base_uri": "https://localhost:8080/"
        },
        "id": "KeRBkbtTht79",
        "outputId": "8ba09946-76cf-4904-bde1-a995895b97fd"
      },
      "execution_count": 12,
      "outputs": [
        {
          "output_type": "stream",
          "name": "stdout",
          "text": [
            "Intercept: 8.595744680851062\n",
            "Slope: -0.4680851063829786\n"
          ]
        }
      ]
    },
    {
      "cell_type": "markdown",
      "source": [
        "9. Scenario: A study is conducted to compare the effectiveness of two different medications. The recovery times of the patients in each group are as follows:\n",
        "   Medication A: [10, 12, 14, 11, 13]\n",
        "   Medication B: [15, 17, 16, 14, 18]\n",
        "   Perform an analysis of variance (ANOVA) to determine if there is a significant difference in the mean recovery times between the two medications.\n"
      ],
      "metadata": {
        "id": "cR75Y-fni3rK"
      }
    },
    {
      "cell_type": "code",
      "source": [
        "import scipy.stats as stats\n",
        "\n",
        "medication_a_recovery_times = [10, 12, 14, 11, 13]\n",
        "medication_b_recovery_times = [15, 17, 16, 14, 18]\n",
        "\n",
        "# Perform one-way ANOVA\n",
        "f_statistic, p_value = stats.f_oneway(medication_a_recovery_times, medication_b_recovery_times)\n",
        "\n",
        "if p_value < 0.05:\n",
        "    print(\"There is a significant difference in the mean recovery times between the two medications.\")\n",
        "else:\n",
        "    print(\"There is no significant difference in the mean recovery times between the two medications.\")\n"
      ],
      "metadata": {
        "colab": {
          "base_uri": "https://localhost:8080/"
        },
        "id": "bKH4Tq5SiH2H",
        "outputId": "6bdf2b80-0636-44c1-da83-f2ff8657e390"
      },
      "execution_count": 15,
      "outputs": [
        {
          "output_type": "stream",
          "name": "stdout",
          "text": [
            "There is a significant difference in the mean recovery times between the two medications.\n"
          ]
        }
      ]
    },
    {
      "cell_type": "markdown",
      "source": [
        "10. Scenario: A company wants to analyze customer feedback ratings on a scale of 1 to 10. The data collected is\n",
        "\n",
        " as follows:\n",
        "    [8, 9, 7, 6, 8, 10, 9, 8, 7, 8]\n",
        "    Calculate the 75th percentile of the feedback ratings.\n"
      ],
      "metadata": {
        "id": "LyYq-ScsjTtG"
      }
    },
    {
      "cell_type": "code",
      "source": [
        "import numpy as np\n",
        "\n",
        "feedback_ratings = [8, 9, 7, 6, 8, 10, 9, 8, 7, 8]\n",
        "percentile_75th = np.percentile(feedback_ratings, 75)\n",
        "\n",
        "print(f\"75th percentile of the feedback ratings: {percentile_75th}\")"
      ],
      "metadata": {
        "colab": {
          "base_uri": "https://localhost:8080/"
        },
        "id": "qZupQn5vi7dJ",
        "outputId": "b2eadfe8-f497-47ce-ebdb-1a0df4bcf2a6"
      },
      "execution_count": 16,
      "outputs": [
        {
          "output_type": "stream",
          "name": "stdout",
          "text": [
            "75th percentile of the feedback ratings: 8.75\n"
          ]
        }
      ]
    },
    {
      "cell_type": "markdown",
      "source": [
        "11. Scenario: A quality control department wants to test the weight consistency of a product. The weights of a sample of products are as follows:\n",
        "    [10.2, 9.8, 10.0, 10.5, 10.3, 10.1]\n",
        "    Perform a hypothesis test to determine if the mean weight differs significantly from 10 grams\n"
      ],
      "metadata": {
        "id": "dKed0jP0jkcw"
      }
    },
    {
      "cell_type": "code",
      "source": [
        "import scipy.stats as stats\n",
        "\n",
        "weights = [10.2, 9.8, 10.0, 10.5, 10.3, 10.1]\n",
        "pop_mean = 10\n",
        "\n",
        "# Perform one-sample t-test\n",
        "t_statistic, p_value = stats.ttest_1samp(weights, pop_mean)\n",
        "\n",
        "if p_value < 0.05:\n",
        "    print(\"The mean weight differs significantly from 10 grams.\")\n",
        "else:\n",
        "    print(\"The mean weight does not differ significantly from 10 grams.\")"
      ],
      "metadata": {
        "colab": {
          "base_uri": "https://localhost:8080/"
        },
        "id": "7bgKu-2Qjej1",
        "outputId": "a953ce9d-6993-46cf-d524-f21cf93ac7c0"
      },
      "execution_count": 17,
      "outputs": [
        {
          "output_type": "stream",
          "name": "stdout",
          "text": [
            "The mean weight does not differ significantly from 10 grams.\n"
          ]
        }
      ]
    },
    {
      "cell_type": "markdown",
      "source": [
        "12. Scenario: A company wants to analyze the click-through rates of two different website designs. The number of clicks for each design is as follows:\n",
        "    Design A: [100, 120, 110, 90, 95]\n",
        "    Design B: [80, 85, 90, 95, 100]\n",
        "    Perform a chi-square test to determine if there is a significant difference in the click-through rates between the two designs.\n"
      ],
      "metadata": {
        "id": "UGNSF5nxj8YO"
      }
    },
    {
      "cell_type": "code",
      "source": [
        "import scipy.stats as stats\n",
        "import numpy as np\n",
        "\n",
        "design_a_clicks = np.array([100, 120, 110, 90, 95])\n",
        "design_b_clicks = np.array([80, 85, 90, 95, 100])\n",
        "\n",
        "# Perform chi-square test\n",
        "chi2_statistic, p_values = stats.chisquare([design_a_clicks, design_b_clicks])\n",
        "\n",
        "p_value = p_values[1]  # Extract p-value corresponding to the second design\n",
        "\n",
        "if p_value < 0.05:\n",
        "    print(\"There is a significant difference in the click-through rates between the two designs.\")\n",
        "else:\n",
        "    print(\"There is no significant difference in the click-through rates between the two designs.\")"
      ],
      "metadata": {
        "colab": {
          "base_uri": "https://localhost:8080/"
        },
        "id": "Gw4jyJoujqf7",
        "outputId": "c6aea24b-78d2-4109-d910-ad6f8c9545a7"
      },
      "execution_count": 21,
      "outputs": [
        {
          "output_type": "stream",
          "name": "stdout",
          "text": [
            "There is a significant difference in the click-through rates between the two designs.\n"
          ]
        }
      ]
    },
    {
      "cell_type": "markdown",
      "source": [
        "13. Scenario: A survey is conducted to measure customer satisfaction with a product on a scale of 1 to 10. The data collected is as follows:\n",
        "    [7, 9, 6, 8, 10, 7, 8, 9, 7, 8]\n",
        "    Calculate the 95% confidence interval for the population mean satisfaction score."
      ],
      "metadata": {
        "id": "MvKqrmE7k1oi"
      }
    },
    {
      "cell_type": "code",
      "source": [],
      "metadata": {
        "id": "4z1aUINTptIa"
      },
      "execution_count": null,
      "outputs": []
    },
    {
      "cell_type": "code",
      "source": [
        "import scipy.stats as stats\n",
        "import numpy as np\n",
        "\n",
        "satisfaction_scores = np.array([7, 9, 6, 8, 10, 7, 8, 9, 7, 8])\n",
        "\n",
        "# Calculate the confidence interval\n",
        "confidence_interval = stats.t.interval(0.95, len(satisfaction_scores)-1, loc=np.mean(satisfaction_scores), scale=stats.sem(satisfaction_scores))\n",
        "\n",
        "print(f\"The 95% confidence interval for the population mean satisfaction score is: {confidence_interval}\")"
      ],
      "metadata": {
        "colab": {
          "base_uri": "https://localhost:8080/"
        },
        "id": "0bX_Pwlylgeu",
        "outputId": "9592f4fc-608a-44f2-8624-eff38a24be0c"
      },
      "execution_count": 24,
      "outputs": [
        {
          "output_type": "stream",
          "name": "stdout",
          "text": [
            "The 95% confidence interval for the population mean satisfaction score is: (7.043561120599888, 8.756438879400113)\n"
          ]
        }
      ]
    },
    {
      "cell_type": "markdown",
      "source": [
        "14. Scenario: A company wants to analyze the effect of temperature on product performance. The data collected is as follows:\n",
        "    Temperature (in degrees Celsius): [20, 22, 23, 19, 21]\n",
        "    Performance (on a scale of 1 to 10): [8, 7, 9, 6, 8]\n",
        "    Perform a simple linear regression to predict performance based on temperature.\n"
      ],
      "metadata": {
        "id": "MeN92JQrpYxz"
      }
    },
    {
      "cell_type": "code",
      "source": [
        "from sklearn.linear_model import LinearRegression\n",
        "import numpy as np\n",
        "\n",
        "temperature = np.array([20, 22, 23, 19, 21])\n",
        "performance = np.array([8, 7, 9, 6, 8])\n",
        "\n",
        "# Create a Linear Regression model and fit the data\n",
        "regression_model = LinearRegression()\n",
        "regression_model.fit(temperature.reshape(-1, 1), performance)\n",
        "\n",
        "# Extract the coefficients\n",
        "intercept = regression_model.intercept_\n",
        "slope = regression_model.coef_[0]\n",
        "\n",
        "print(f\"The linear regression equation is: Performance = {intercept:.2f} + {slope:.2f} * Temperature\")"
      ],
      "metadata": {
        "colab": {
          "base_uri": "https://localhost:8080/"
        },
        "id": "DrrOWgIapTkz",
        "outputId": "6ad1f97f-090b-4b68-f1a1-f55c1e326616"
      },
      "execution_count": 27,
      "outputs": [
        {
          "output_type": "stream",
          "name": "stdout",
          "text": [
            "The linear regression equation is: Performance = -2.90 + 0.50 * Temperature\n"
          ]
        }
      ]
    },
    {
      "cell_type": "code",
      "source": [
        "\"\"\"\n",
        "def inter(temp):\n",
        "    result = []\n",
        "    for t in temp:\n",
        "        result.append((-2.90) + (0.50 * t))\n",
        "    return result\n",
        "\n",
        "temperature = [20, 22, 23, 19, 21]\n",
        "print(inter(temperature))\n",
        "\"\"\""
      ],
      "metadata": {
        "colab": {
          "base_uri": "https://localhost:8080/"
        },
        "id": "HnBQhrB0p-P0",
        "outputId": "2e99b67c-a3e6-4aed-9008-c19f83c98dd4"
      },
      "execution_count": 42,
      "outputs": [
        {
          "output_type": "stream",
          "name": "stdout",
          "text": [
            "[7.1, 8.1, 8.6, 6.6, 7.6]\n"
          ]
        }
      ]
    },
    {
      "cell_type": "markdown",
      "source": [
        "15. Scenario: A study is conducted to compare the preferences of two groups of participants. The preferences are measured on a Likert scale from 1 to 5. The data collected is as follows:\n",
        "    Group A: [4, 3, 5, 2, 4]\n",
        "    Group B: [3, 2, 4, 3, 3]\n",
        "    Perform a Mann-Whitney U test to determine if there is a significant difference in the median preferences between the two groups.\n"
      ],
      "metadata": {
        "id": "tzsb-6y91KO_"
      }
    },
    {
      "cell_type": "code",
      "source": [
        "import scipy.stats as stats\n",
        "\n",
        "group_a_preferences = [4, 3, 5, 2, 4]\n",
        "group_b_preferences = [3, 2, 4, 3, 3]\n",
        "\n",
        "# Perform Mann-Whitney U test\n",
        "statistic, p_value = stats.mannwhitneyu(group_a_preferences, group_b_preferences)\n",
        "\n",
        "if p_value < 0.05:\n",
        "    print(\"There is a significant difference in the median preferences between the two groups.\")\n",
        "else:\n",
        "    print(\"There is no significant difference in the median preferences between the two groups.\")"
      ],
      "metadata": {
        "colab": {
          "base_uri": "https://localhost:8080/"
        },
        "id": "RXXzi_sHrEks",
        "outputId": "491887a9-6c80-40b2-bdda-01fa0e9884f1"
      },
      "execution_count": 43,
      "outputs": [
        {
          "output_type": "stream",
          "name": "stdout",
          "text": [
            "There is no significant difference in the median preferences between the two groups.\n"
          ]
        }
      ]
    },
    {
      "cell_type": "markdown",
      "source": [
        "16. Scenario: A company wants to analyze the distribution of customer ages. The data collected is as follows:\n",
        "    [25, 30, 35, 40, 45, 50, 55, 60, 65, 70]\n",
        "    Calculate the interquartile range (IQR) of the ages.\n"
      ],
      "metadata": {
        "id": "v2VD7eU_1ePB"
      }
    },
    {
      "cell_type": "code",
      "source": [
        "import numpy as np\n",
        "\n",
        "ages = np.array([25, 30, 35, 40, 45, 50, 55, 60, 65, 70])\n",
        "\n",
        "# Calculate the 25th and 75th percentiles\n",
        "q1 = np.percentile(ages, 25)\n",
        "q3 = np.percentile(ages, 75)\n",
        "\n",
        "# Calculate the interquartile range (IQR)\n",
        "iqr = q3 - q1\n",
        "\n",
        "print(f\"The interquartile range (IQR) of the ages is: {iqr}\")"
      ],
      "metadata": {
        "colab": {
          "base_uri": "https://localhost:8080/"
        },
        "id": "AxuIiVP71T_W",
        "outputId": "0a731df8-ddc4-4027-dffd-0464dc6540eb"
      },
      "execution_count": 44,
      "outputs": [
        {
          "output_type": "stream",
          "name": "stdout",
          "text": [
            "The interquartile range (IQR) of the ages is: 22.5\n"
          ]
        }
      ]
    },
    {
      "cell_type": "markdown",
      "source": [
        "17. Scenario: A study is conducted to compare the performance of three different machine learning algorithms. The accuracy scores for each algorithm are as follows:\n",
        "    Algorithm A: [0.85, 0.80, 0.82, 0.87, 0.83]\n",
        "    Algorithm B: [0.78, 0.82, 0.84, 0.80, 0.79]\n",
        "    Algorithm C: [0.90, 0.88, 0.89, 0.86, 0.87]\n",
        "    Perform a Kruskal-Wallis test to determine if there is a significant difference in the median accuracy scores between the algorithms.\n"
      ],
      "metadata": {
        "id": "wdFy6sbR1vTb"
      }
    },
    {
      "cell_type": "code",
      "source": [
        "import scipy.stats as stats\n",
        "import numpy as np\n",
        "\n",
        "algorithm_a_scores = np.array([0.85, 0.80, 0.82, 0.87, 0.83])\n",
        "algorithm_b_scores = np.array([0.78, 0.82, 0.84, 0.80, 0.79])\n",
        "algorithm_c_scores = np.array([0.90, 0.88, 0.89, 0.86, 0.87])\n",
        "\n",
        "# Perform Kruskal-Wallis test\n",
        "statistic, p_value = stats.kruskal(algorithm_a_scores, algorithm_b_scores, algorithm_c_scores)\n",
        "\n",
        "if p_value < 0.05:\n",
        "    print(\"There is a significant difference in the median accuracy scores between the algorithms.\")\n",
        "else:\n",
        "    print(\"There is no significant difference in the median accuracy scores between the algorithms.\")"
      ],
      "metadata": {
        "colab": {
          "base_uri": "https://localhost:8080/"
        },
        "id": "2Z2IPHj61hAS",
        "outputId": "383c2667-7303-4cab-edf9-48e198d96f2c"
      },
      "execution_count": 45,
      "outputs": [
        {
          "output_type": "stream",
          "name": "stdout",
          "text": [
            "There is a significant difference in the median accuracy scores between the algorithms.\n"
          ]
        }
      ]
    },
    {
      "cell_type": "markdown",
      "source": [
        "18. Scenario: A company wants to analyze the effect of price on sales. The data collected is as follows:\n",
        "    Price (in dollars): [10, 15, 12, 8, 14]\n",
        "    Sales: [100, 80, 90, 110, 95]\n",
        "    Perform a simple linear regression to predict\n",
        "\n",
        " sales based on price.\n"
      ],
      "metadata": {
        "id": "denDc1zV18Qg"
      }
    },
    {
      "cell_type": "code",
      "source": [
        "from sklearn.linear_model import LinearRegression\n",
        "import numpy as np\n",
        "\n",
        "price = np.array([10, 15, 12, 8, 14])\n",
        "sales = np.array([100, 80, 90, 110, 95])\n",
        "\n",
        "# Create a Linear Regression model and fit the data\n",
        "regression_model = LinearRegression()\n",
        "regression_model.fit(price.reshape(-1, 1), sales)\n",
        "\n",
        "# Extract the coefficients\n",
        "intercept = regression_model.intercept_\n",
        "slope = regression_model.coef_[0]\n",
        "\n",
        "print(f\"The linear regression equation is: Sales = {intercept:.2f} + {slope:.2f} * Price\")"
      ],
      "metadata": {
        "colab": {
          "base_uri": "https://localhost:8080/"
        },
        "id": "v8aqhXbX13zu",
        "outputId": "23a7fb48-91d9-4c5a-8b0c-36ded6b6fa01"
      },
      "execution_count": 46,
      "outputs": [
        {
          "output_type": "stream",
          "name": "stdout",
          "text": [
            "The linear regression equation is: Sales = 136.37 + -3.51 * Price\n"
          ]
        }
      ]
    },
    {
      "cell_type": "code",
      "source": [
        "\"\"\"\n",
        "def inter(pc):\n",
        "    result = []\n",
        "    for p in pc:\n",
        "        result.append((136.37) + (-3.51 * p))\n",
        "    return result\n",
        "\n",
        "price = np.array([10, 15, 12, 8, 14])\n",
        "print(inter(price))\n",
        "\"\"\""
      ],
      "metadata": {
        "colab": {
          "base_uri": "https://localhost:8080/"
        },
        "id": "Ttms8eIa2B2E",
        "outputId": "bd3d9e83-3501-41ac-f042-12ba6deecde2"
      },
      "execution_count": 47,
      "outputs": [
        {
          "output_type": "stream",
          "name": "stdout",
          "text": [
            "[101.27000000000001, 83.72, 94.25, 108.29, 87.23]\n"
          ]
        }
      ]
    },
    {
      "cell_type": "markdown",
      "source": [
        "19. Scenario: A survey is conducted to measure the satisfaction levels of customers with a new product. The data collected is as follows:\n",
        "    [7, 8, 9, 6, 8, 7, 9, 7, 8, 7]\n",
        "    Calculate the standard error of the mean satisfaction score.\n"
      ],
      "metadata": {
        "id": "z1ZkuW0m2nJW"
      }
    },
    {
      "cell_type": "code",
      "source": [
        "import scipy.stats as stats\n",
        "import numpy as np\n",
        "\n",
        "satisfaction_scores = np.array([7, 8, 9, 6, 8, 7, 9, 7, 8, 7])\n",
        "\n",
        "# Calculate the standard error of the mean\n",
        "standard_error = stats.sem(satisfaction_scores)\n",
        "\n",
        "print(f\"The standard error of the mean satisfaction score is: {standard_error:.2f}\")\n"
      ],
      "metadata": {
        "colab": {
          "base_uri": "https://localhost:8080/"
        },
        "id": "bDc4YvS42dXp",
        "outputId": "bc33551d-c764-4d25-8300-5958070be1cf"
      },
      "execution_count": 48,
      "outputs": [
        {
          "output_type": "stream",
          "name": "stdout",
          "text": [
            "The standard error of the mean satisfaction score is: 0.31\n"
          ]
        }
      ]
    },
    {
      "cell_type": "markdown",
      "source": [
        "\n",
        "20. Scenario: A company wants to analyze the relationship between advertising expenditure and sales. The data collected is as follows:\n",
        "    Advertising Expenditure (in thousands): [10, 15, 12, 8, 14]\n",
        "    Sales (in thousands): [25, 30, 28, 20, 26]\n",
        "    Perform a multiple regression analysis to predict sales based on advertising expenditure.\n"
      ],
      "metadata": {
        "id": "nAdTA5aX2t2v"
      }
    },
    {
      "cell_type": "code",
      "source": [
        "import statsmodels.api as sm\n",
        "import numpy as np\n",
        "\n",
        "advertising_expenditure = np.array([10, 15, 12, 8, 14])\n",
        "sales = np.array([25, 30, 28, 20, 26])\n",
        "\n",
        "# Add a constant column to the advertising expenditure\n",
        "X = sm.add_constant(advertising_expenditure)\n",
        "\n",
        "# Create a multiple regression model and fit the data\n",
        "regression_model = sm.OLS(sales, X)\n",
        "regression_results = regression_model.fit()\n",
        "\n",
        "# Extract the coefficients\n",
        "intercept = regression_results.params[0]\n",
        "slope = regression_results.params[1]\n",
        "\n",
        "# Predict sales based on advertising expenditure\n",
        "new_advertising_expenditure = np.array([16, 18, 20])\n",
        "new_X = sm.add_constant(new_advertising_expenditure)\n",
        "predicted_sales = regression_results.predict(new_X)\n",
        "\n",
        "print(f\"The linear regression equation is: Sales = {intercept:.2f} + {slope:.2f} * Advertising Expenditure\")\n",
        "print(\"Predicted sales based on new advertising expenditure:\")\n",
        "for i in range(len(new_advertising_expenditure)):\n",
        "    print(f\"Advertising Expenditure: {new_advertising_expenditure[i]}, Predicted Sales: {predicted_sales[i]:.2f}\")\n"
      ],
      "metadata": {
        "colab": {
          "base_uri": "https://localhost:8080/"
        },
        "id": "U77fGW_329zw",
        "outputId": "14e148e7-11b3-4ff3-de7d-efa88a160329"
      },
      "execution_count": 52,
      "outputs": [
        {
          "output_type": "stream",
          "name": "stdout",
          "text": [
            "The linear regression equation is: Sales = 12.20 + 1.15 * Advertising Expenditure\n",
            "Predicted sales based on new advertising expenditure:\n",
            "Advertising Expenditure: 16, Predicted Sales: 30.64\n",
            "Advertising Expenditure: 18, Predicted Sales: 32.95\n",
            "Advertising Expenditure: 20, Predicted Sales: 35.25\n"
          ]
        }
      ]
    },
    {
      "cell_type": "code",
      "source": [],
      "metadata": {
        "id": "vmQ3dcMf3HmB"
      },
      "execution_count": null,
      "outputs": []
    }
  ]
}